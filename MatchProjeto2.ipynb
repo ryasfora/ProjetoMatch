{
  "nbformat": 4,
  "nbformat_minor": 0,
  "metadata": {
    "colab": {
      "provenance": [],
      "toc_visible": true,
      "authorship_tag": "ABX9TyNQsbnsLnMcAJke1xsTTWA+",
      "include_colab_link": true
    },
    "kernelspec": {
      "name": "python3",
      "display_name": "Python 3"
    },
    "language_info": {
      "name": "python"
    }
  },
  "cells": [
    {
      "cell_type": "markdown",
      "metadata": {
        "id": "view-in-github",
        "colab_type": "text"
      },
      "source": [
        "<a href=\"https://colab.research.google.com/github/ryasfora/projetomatch/blob/main/MatchProjeto2.ipynb\" target=\"_parent\"><img src=\"https://colab.research.google.com/assets/colab-badge.svg\" alt=\"Open In Colab\"/></a>"
      ]
    },
    {
      "cell_type": "code",
      "source": [
        "from werkzeug.wrappers import response\n",
        "from IPython.core import usage\n",
        "from flask import Flask, render_template, send_from_directory\n",
        "import requests\n",
        "\n",
        "app = Flask(__name__)\n",
        "\n",
        "@app.route('/')\n",
        "def home ():\n",
        "  return render_template('cashnow.html')\n",
        "\n",
        "@app.route('/static/<path:G03removebgpreview>')\n",
        "def servir_imagem(G03removebgpreview):\n",
        "    return send_from_directory ('static', G03removebgpreview.png)\n",
        "\n",
        "def obter_taxas():\n",
        "  url = \"https://api.exchangerate-api.com/v4/latest/USD\"\n",
        "  response = requests.get(url)\n",
        "  data = response.json()\n",
        "  return data['rates']\n",
        "\n",
        "def converter_moedas(valor, moeda1, moeda2, taxas):\n",
        "  if moeda1 in taxas and moeda2 in taxas:\n",
        "    taxa1 = taxas[moeda1]\n",
        "    taxa2 = taxas[moeda2]\n",
        "    valor_est = valor / taxa1\n",
        "    valor_res = valor_est * taxa2\n",
        "    return valor_res\n",
        "\n",
        "  else:\n",
        "      return None\n",
        "\n",
        "\n",
        "taxa_cambio = obter_taxas()\n",
        "\n",
        "moeda1 = input('Insira a sigla da moeda atual. Ex.: BRL: ').upper()\n",
        "moeda2 = input('Agora insira a sigla da moeda na qual deseja converter: Ex.: USD: ').upper()\n",
        "valor = float(input('Qual é o valor a ser convertido? Ex.: 50.00 '))\n",
        "\n",
        "valor_res = converter_moedas(\n",
        "    valor, moeda1, moeda2, taxa_cambio)\n",
        "\n",
        "if valor_res is not None:\n",
        "  print(f'\\n{valor:.2f} {moeda1} equivalem a {valor_res:.2f} {moeda2}.')\n",
        "\n",
        "else:\n",
        "  print('Moeda inválida.')"
      ],
      "metadata": {
        "id": "RrRk9aItzJGA"
      },
      "execution_count": null,
      "outputs": []
    }
  ]
}